{
 "cells": [
  {
   "cell_type": "code",
   "execution_count": 2,
   "id": "6cb51e7a-0d26-41ca-bdd2-55a550585708",
   "metadata": {},
   "outputs": [],
   "source": [
    "import requests\n",
    "import json\n",
    "from tqdm import tqdm\n",
    "import pandas as pd\n",
    "# URL of MySceal backend\n",
    "URL = \"http://localhost:8004/query_list\"\n",
    "relevant_dict_jpg = [[\"2015-03-13/b00000198_21i6bq_20150313_073345e.jpg\", \"2015-03-13/b00000188_21i6bq_20150313_072705e.jpg\", \"2015-03-13/b00000271_21i6bq_20150313_081556e.jpg\", \"2015-03-13/b00000200_21i6bq_20150313_073502e.jpg\", \"2015-03-13/b00000219_21i6bq_20150313_074710e.jpg\", \"2015-03-13/b00000203_21i6bq_20150313_073650e.jpg\", \"2015-03-13/b00000248_21i6bq_20150313_080034e.jpg\", \"2015-03-13/b00000251_21i6bq_20150313_080238e.jpg\", \"2015-03-13/b00000214_21i6bq_20150313_074324e.jpg\", \"2015-03-13/b00000268_21i6bq_20150313_081415e.jpg\", \"2015-03-13/b00000192_21i6bq_20150313_073000e.jpg\", \"2015-03-13/b00000218_21i6bq_20150313_074633e.jpg\", \"2015-03-13/b00000247_21i6bq_20150313_075947e.jpg\", \"2015-03-13/b00000368_21i6bq_20150313_091858e.jpg\", \"2015-03-13/b00000259_21i6bq_20150313_080808e.jpg\", \"2015-03-13/b00000205_21i6bq_20150313_073808e.jpg\", \"2015-03-13/b00000221_21i6bq_20150313_074821e.jpg\", \"2015-03-13/b00000194_21i6bq_20150313_073114e.jpg\", \"2015-03-13/b00000228_21i6bq_20150313_075235e.jpg\", \"2015-03-13/b00000201_21i6bq_20150313_073539e.jpg\", \"2015-03-13/b00000227_21i6bq_20150313_075200e.jpg\", \"2015-03-13/b00000241_21i6bq_20150313_075713e.jpg\", \"2015-03-13/b00000263_21i6bq_20150313_081121e.jpg\", \"2015-03-13/b00000245_21i6bq_20150313_075832e.jpg\", \"2015-03-13/b00000255_21i6bq_20150313_080554e.jpg\", \"2015-03-13/b00000206_21i6bq_20150313_073842e.jpg\", \"2015-03-13/b00000230_21i6bq_20150313_075346e.jpg\", \"2015-03-13/b00000211_21i6bq_20150313_074137e.jpg\", \"2015-03-13/b00000233_21i6bq_20150313_075619e.jpg\", \"2015-03-13/b00000260_21i6bq_20150313_080848e.jpg\", \"2015-03-13/b00000185_21i6bq_20150313_072520e.jpg\", \"2015-03-13/b00000249_21i6bq_20150313_080115e.jpg\", \"2015-03-13/b00000212_21i6bq_20150313_074216e.jpg\", \"2015-03-13/b00000208_21i6bq_20150313_073954e.jpg\", \"2015-03-13/b00000195_21i6bq_20150313_073151e.jpg\", \"2015-03-13/b00000193_21i6bq_20150313_073038e.jpg\", \"2015-03-13/b00000311_21i6bq_20150313_084044e.jpg\", \"2015-03-13/b00000224_21i6bq_20150313_075013e.jpg\", \"2015-03-13/b00000264_21i6bq_20150313_081153e.jpg\", \"2015-03-13/b00000237_21i6bq_20150313_075710e.jpg\", \"2015-03-13/b00000199_21i6bq_20150313_073422e.jpg\", \"2015-03-13/b00000243_21i6bq_20150313_075720e.jpg\", \"2015-03-13/b00000242_21i6bq_20150313_075713e.jpg\", \"2015-03-13/b00000197_21i6bq_20150313_073310e.jpg\", \"2015-03-13/b00000254_21i6bq_20150313_080519e.jpg\", \"2015-03-13/b00000215_21i6bq_20150313_074438e.jpg\", \"2015-03-13/b00000210_21i6bq_20150313_074105e.jpg\", \"2015-03-13/b00000204_21i6bq_20150313_073727e.jpg\", \"2015-03-13/b00000244_21i6bq_20150313_075755e.jpg\", \"2015-03-13/b00000231_21i6bq_20150313_075424e.jpg\", \"2015-03-13/b00000190_21i6bq_20150313_072812e.jpg\", \"2015-03-13/b00000229_21i6bq_20150313_075306e.jpg\", \"2015-03-13/b00000253_21i6bq_20150313_080443e.jpg\", \"2015-03-13/b00000262_21i6bq_20150313_081004e.jpg\", \"2015-03-13/b00000226_21i6bq_20150313_075128e.jpg\", \"2015-03-13/b00000187_21i6bq_20150313_072628e.jpg\", \"2015-03-13/b00000189_21i6bq_20150313_072737e.jpg\", \"2015-03-13/b00000238_21i6bq_20150313_075711e.jpg\", \"2015-03-13/b00000269_21i6bq_20150313_081451e.jpg\", \"2015-03-13/b00000383_21i6bq_20150313_092756e.jpg\", \"2015-03-13/b00000234_21i6bq_20150313_075708e.jpg\", \"2015-03-13/b00000213_21i6bq_20150313_074248e.jpg\", \"2015-03-13/b00000196_21i6bq_20150313_073231e.jpg\", \"2015-03-13/b00000235_21i6bq_20150313_075709e.jpg\", \"2015-03-13/b00000256_21i6bq_20150313_080631e.jpg\", \"2015-03-13/b00000258_21i6bq_20150313_080735e.jpg\", \"2015-03-13/b00000267_21i6bq_20150313_081337e.jpg\", \"2015-03-13/b00000222_21i6bq_20150313_074857e.jpg\", \"2015-03-13/b00000217_21i6bq_20150313_074557e.jpg\", \"2015-03-13/b00000183_21i6bq_20150313_072410e.jpg\", \"2015-03-13/b00000207_21i6bq_20150313_073916e.jpg\", \"2015-03-13/b00000266_21i6bq_20150313_081300e.jpg\", \"2015-03-13/b00000191_21i6bq_20150313_072851e.jpg\", \"2015-03-13/b00000270_21i6bq_20150313_081524e.jpg\", \"2015-03-13/b00000209_21i6bq_20150313_074026e.jpg\", \"2015-03-13/b00000257_21i6bq_20150313_080702e.jpg\", \"2015-03-13/b00000261_21i6bq_20150313_080922e.jpg\", \"2015-03-13/b00000252_21i6bq_20150313_080324e.jpg\", \"2015-03-13/b00000216_21i6bq_20150313_074518e.jpg\", \"2015-03-13/b00000223_21i6bq_20150313_074938e.jpg\", \"2015-03-13/b00000184_21i6bq_20150313_072443e.jpg\", \"2015-03-13/b00000225_21i6bq_20150313_075050e.jpg\", \"2015-03-13/b00000250_21i6bq_20150313_080156e.jpg\", \"2015-03-13/b00000246_21i6bq_20150313_075908e.jpg\", \"2015-03-13/b00000236_21i6bq_20150313_075709e.jpg\", \"2015-03-13/b00000202_21i6bq_20150313_073612e.jpg\", \"2015-03-13/b00000310_21i6bq_20150313_084005e.jpg\", \"2015-03-13/b00000240_21i6bq_20150313_075712e.jpg\", \"2015-03-13/b00000186_21i6bq_20150313_072553e.jpg\", \"2015-03-13/b00000220_21i6bq_20150313_074743e.jpg\", \"2015-03-13/b00000239_21i6bq_20150313_075711e.jpg\", \"2015-03-13/b00000265_21i6bq_20150313_081228e.jpg\"], [\"2015-03-19/b00001839_21i6bq_20150319_095307e.jpg\"], [\"2018-05-27/B00006001_21I6X0_20180527_154000E.JPG\", \"2018-05-27/B00006000_21I6X0_20180527_153936E.JPG\"], [\"2015-03-15/b00000611_21i6bq_20150315_133835e.jpg\"], [\"2016-09-27/20160927_122044_000.jpg\", \"2016-09-27/20160927_122502_000.jpg\", \"2016-09-27/20160927_122220_000.jpg\", \"2016-09-27/20160927_123022_000.jpg\", \"2016-09-27/20160927_123159_000.jpg\", \"2016-09-27/20160927_121908_000.jpg\", \"2016-09-27/20160927_122148_000.jpg\", \"2016-09-27/20160927_121836_000.jpg\", \"2016-09-27/20160927_122638_000.jpg\", \"2016-09-27/20160927_123127_000.jpg\", \"2016-09-27/20160927_122116_000.jpg\", \"2016-09-27/20160927_122430_000.jpg\", \"2016-09-27/20160927_122534_000.jpg\", \"2016-09-27/20160927_122918_000.jpg\", \"2016-09-27/20160927_122846_000.jpg\", \"2016-09-27/20160927_122606_000.jpg\", \"2016-09-27/20160927_121543_000.jpg\", \"2016-09-27/20160927_122012_000.jpg\", \"2016-09-27/20160927_123335_000.jpg\", \"2016-09-27/20160927_121804_000.jpg\", \"2016-09-27/20160927_122710_000.jpg\", \"2016-09-27/20160927_121615_000.jpg\", \"2016-09-27/20160927_121511_000.jpg\", \"2016-09-27/20160927_123055_000.jpg\", \"2016-09-27/20160927_122950_000.jpg\", \"2016-09-27/20160927_121732_000.jpg\", \"2016-09-27/20160927_121700_000.jpg\", \"2016-09-27/20160927_121940_000.jpg\", \"2016-09-27/20160927_122252_000.jpg\", \"2016-09-27/20160927_122814_000.jpg\", \"2016-09-27/20160927_123303_000.jpg\", \"2016-09-27/20160927_122742_000.jpg\", \"2016-09-27/20160927_123231_000.jpg\"], [\"2018-05-28/B00008554_21I6X0_20180528_201732E.JPG\", \"2018-05-28/B00008548_21I6X0_20180528_201514E.JPG\", \"2018-05-28/B00008550_21I6X0_20180528_201600E.JPG\", \"2018-05-28/B00008553_21I6X0_20180528_201709E.JPG\", \"2018-05-28/B00008549_21I6X0_20180528_201537E.JPG\", \"2018-05-28/B00008552_21I6X0_20180528_201646E.JPG\", \"2018-05-28/B00008556_21I6X0_20180528_201818E.JPG\", \"2018-05-28/B00008547_21I6X0_20180528_201440E.JPG\", \"2018-05-28/B00008555_21I6X0_20180528_201755E.JPG\", \"2018-05-28/B00008546_21I6X0_20180528_201417E.JPG\", \"2018-05-28/B00008551_21I6X0_20180528_201623E.JPG\", \"2018-05-28/B00008544_21I6X0_20180528_201330E.JPG\"], [\"2015-03-19/b00001889_21i6bq_20150319_101938e.jpg\"], [\"2018-05-09/B00003092_21I6X0_20180509_180032E.JPG\", \"2018-05-09/B00003088_21I6X0_20180509_175900E.JPG\", \"2018-05-09/B00003089_21I6X0_20180509_175923E.JPG\"], [\"2015-03-15/b00001111_21i6bq_20150315_182826e.jpg\", \"2015-03-15/b00001112_21i6bq_20150315_182904e.jpg\"], [\"2018-05-21/B00003736_21I6X0_20180521_143022E.JPG\", \"2018-05-21/B00003743_21I6X0_20180521_143303E.JPG\", \"2018-05-21/B00003722_21I6X0_20180521_142458E.JPG\", \"2018-05-21/B00003758_21I6X0_20180521_143537E.JPG\", \"2018-05-21/B00003744_21I6X0_20180521_143326E.JPG\", \"2018-05-21/B00003726_21I6X0_20180521_142631E.JPG\", \"2018-05-21/B00003753_21I6X0_20180521_143421E.JPG\", \"2018-05-21/B00003721_21I6X0_20180521_142434E.JPG\", \"2018-05-21/B00003741_21I6X0_20180521_143216E.JPG\", \"2018-05-21/B00003745_21I6X0_20180521_143349E.JPG\", \"2018-05-21/B00003747_21I6X0_20180521_143417E.JPG\", \"2018-05-21/B00003757_21I6X0_20180521_143514E.JPG\", \"2018-05-21/B00003749_21I6X0_20180521_143418E.JPG\", \"2018-05-21/B00003729_21I6X0_20180521_142739E.JPG\", \"2018-05-21/B00003739_21I6X0_20180521_143131E.JPG\", \"2018-05-21/B00003735_21I6X0_20180521_142959E.JPG\", \"2018-05-21/B00003725_21I6X0_20180521_142608E.JPG\", \"2018-05-21/B00003723_21I6X0_20180521_142521E.JPG\", \"2018-05-21/B00003731_21I6X0_20180521_142827E.JPG\", \"2018-05-21/B00003751_21I6X0_20180521_143419E.JPG\", \"2018-05-21/B00003755_21I6X0_20180521_143428E.JPG\", \"2018-05-21/B00003748_21I6X0_20180521_143418E.JPG\", \"2018-05-21/B00003727_21I6X0_20180521_142654E.JPG\", \"2018-05-21/B00003750_21I6X0_20180521_143418E.JPG\", \"2018-05-21/B00003724_21I6X0_20180521_142544E.JPG\", \"2018-05-21/B00003752_21I6X0_20180521_143420E.JPG\", \"2018-05-21/B00003733_21I6X0_20180521_142913E.JPG\", \"2018-05-21/B00003756_21I6X0_20180521_143451E.JPG\", \"2018-05-21/B00003732_21I6X0_20180521_142850E.JPG\", \"2018-05-21/B00003740_21I6X0_20180521_143154E.JPG\", \"2018-05-21/B00003738_21I6X0_20180521_143108E.JPG\", \"2018-05-21/B00003737_21I6X0_20180521_143044E.JPG\", \"2018-05-21/B00003734_21I6X0_20180521_142936E.JPG\", \"2018-05-21/B00003728_21I6X0_20180521_142716E.JPG\", \"2018-05-21/B00003730_21I6X0_20180521_142803E.JPG\", \"2018-05-21/B00003742_21I6X0_20180521_143240E.JPG\", \"2018-05-21/B00003746_21I6X0_20180521_143417E.JPG\", \"2018-05-21/B00003754_21I6X0_20180521_143421E.JPG\"], [\"2015-03-19/b00001929_21i6bq_20150319_104500e.jpg\"], [\"2016-08-08/20160808_095206_000.jpg\"], [\"2015-03-15/b00000619_21i6bq_20150315_133917e.jpg\", \"2015-03-15/b00000621_21i6bq_20150315_133925e.jpg\"], [\"2015-03-19/b00002364_21i6bq_20150319_152545e.jpg\"], [\"2015-03-19/b00002083_21i6bq_20150319_122706e.jpg\"], [\"2016-09-27/20160927_141619_000.jpg\", \"2016-09-27/20160927_141841_000.jpg\", \"2016-09-27/20160927_141307_000.jpg\", \"2016-09-27/20160927_141704_000.jpg\", \"2016-09-27/20160927_141808_000.jpg\", \"2016-09-27/20160927_141736_000.jpg\", \"2016-09-27/20160927_141547_000.jpg\"], [\"2018-05-24/B00000561_21I6X0_20180524_131330E.JPG\"], [\"2018-05-23/B00008011_21I6X0_20180523_022159E.JPG\", \"2018-05-23/B00008007_21I6X0_20180523_022131E.JPG\", \"2018-05-23/B00008002_21I6X0_20180523_022058E.JPG\", \"2018-05-23/B00008012_21I6X0_20180523_022206E.JPG\", \"2018-05-23/B00008004_21I6X0_20180523_022112E.JPG\", \"2018-05-23/B00008010_21I6X0_20180523_022152E.JPG\", \"2018-05-23/B00007996_21I6X0_20180523_022006E.JPG\", \"2018-05-23/B00008008_21I6X0_20180523_022139E.JPG\", \"2018-05-23/B00008001_21I6X0_20180523_022052E.JPG\", \"2018-05-23/B00007998_21I6X0_20180523_022020E.JPG\", \"2018-05-23/B00008006_21I6X0_20180523_022125E.JPG\", \"2018-05-23/B00007999_21I6X0_20180523_022039E.JPG\", \"2018-05-23/B00008009_21I6X0_20180523_022145E.JPG\", \"2018-05-23/B00008000_21I6X0_20180523_022046E.JPG\", \"2018-05-23/B00008005_21I6X0_20180523_022118E.JPG\", \"2018-05-23/B00008003_21I6X0_20180523_022105E.JPG\"], [\"2015-03-09/b00000715_21i6bq_20150309_143345e.jpg\"], [\"2015-03-10/b00000099_21i6bq_20150310_135009e.jpg\", \"2015-03-10/b00000101_21i6bq_20150310_135130e.jpg\", \"2015-03-10/b00000102_21i6bq_20150310_135210e.jpg\", \"2015-03-10/b00000100_21i6bq_20150310_135048e.jpg\"], [\"2016-09-02/20160902_110511_000.jpg\", \"2016-09-02/20160902_111759_000.jpg\", \"2016-09-02/20160902_110855_000.jpg\", \"2016-09-02/20160902_111103_000.jpg\", \"2016-09-02/20160902_110615_000.jpg\", \"2016-09-02/20160902_110407_000.jpg\", \"2016-09-02/20160902_111415_000.jpg\", \"2016-09-02/20160902_111655_000.jpg\", \"2016-09-02/20160902_111311_000.jpg\", \"2016-09-02/20160902_110439_000.jpg\", \"2016-09-02/20160902_111135_000.jpg\", \"2016-09-02/20160902_111031_000.jpg\", \"2016-09-02/20160902_110335_000.jpg\", \"2016-09-02/20160902_111623_000.jpg\", \"2016-09-02/20160902_110927_000.jpg\", \"2016-09-02/20160902_110647_000.jpg\", \"2016-09-02/20160902_111207_000.jpg\", \"2016-09-02/20160902_111727_000.jpg\", \"2016-09-02/20160902_111447_000.jpg\", \"2016-09-02/20160902_111519_000.jpg\", \"2016-09-02/20160902_110823_000.jpg\", \"2016-09-02/20160902_110303_000.jpg\", \"2016-09-02/20160902_110719_000.jpg\", \"2016-09-02/20160902_111343_000.jpg\", \"2016-09-02/20160902_110959_000.jpg\", \"2016-09-02/20160902_110751_000.jpg\", \"2016-09-02/20160902_111551_000.jpg\", \"2016-09-02/20160902_111239_000.jpg\", \"2016-09-02/20160902_110543_000.jpg\"], [\"2018-05-30/B00012812_21I6X0_20180530_233018E.JPG\", \"2018-05-30/B00012806_21I6X0_20180530_232715E.JPG\", \"2018-05-30/B00012807_21I6X0_20180530_232739E.JPG\", \"2018-05-30/B00012813_21I6X0_20180530_233042E.JPG\", \"2018-05-30/B00012809_21I6X0_20180530_232838E.JPG\", \"2018-05-30/B00012810_21I6X0_20180530_232910E.JPG\", \"2018-05-30/B00012811_21I6X0_20180530_232934E.JPG\", \"2018-05-30/B00012808_21I6X0_20180530_232808E.JPG\"], [\"2016-08-26/20160826_131103_000.jpg\", \"2016-08-26/20160826_131708_000.jpg\", \"2016-08-26/20160826_131324_000.jpg\", \"2016-08-26/20160826_131252_000.jpg\", \"2016-08-26/20160826_131135_000.jpg\", \"2016-08-26/20160826_131356_000.jpg\", \"2016-08-26/20160826_131812_000.jpg\", \"2016-08-26/20160826_131207_000.jpg\", \"2016-08-26/20160826_132853_000.jpg\"]]\n",
    "num_queries = len(relevant_dict_jpg) # 23 queries\n",
    "\n",
    "relevant_dict = []\n",
    "for x in relevant_dict_jpg:\n",
    "    temp = [f\"{t.split('.')[0].split('/')[-1]}\" for t in x]\n",
    "    relevant_dict.append(temp)\n",
    "    \n",
    "def get_hit_rate(pred, gt, hit=[1,5,10]):\n",
    "    row = []\n",
    "    for n in hit:\n",
    "        matches = set.intersection(set(pred[:n]), set(gt))\n",
    "        if(len(matches)==0):\n",
    "            row.append(0)\n",
    "        else:\n",
    "            row.append(1)\n",
    "    return row"
   ]
  },
  {
   "cell_type": "code",
   "execution_count": 3,
   "id": "e5390986-07c7-48f4-900f-9bf436624bc3",
   "metadata": {},
   "outputs": [
    {
     "data": {
      "text/plain": [
       "['b00000198_21i6bq_20150313_073345e',\n",
       " 'b00000188_21i6bq_20150313_072705e',\n",
       " 'b00000271_21i6bq_20150313_081556e',\n",
       " 'b00000200_21i6bq_20150313_073502e',\n",
       " 'b00000219_21i6bq_20150313_074710e']"
      ]
     },
     "execution_count": 3,
     "metadata": {},
     "output_type": "execute_result"
    }
   ],
   "source": [
    "relevant_dict[0][:5]"
   ]
  },
  {
   "cell_type": "code",
   "execution_count": 4,
   "id": "a70cf25a-e2b4-4347-a0a0-fa18e2d7099d",
   "metadata": {},
   "outputs": [],
   "source": [
    "lsc21_query_0 = ['building a computer',\n",
    "                'going into NorthSide Shopping Centre',\n",
    "                'birds in a cage',\n",
    "                'a white t-shirt for sale',\n",
    "                'Planning a thesis/dissertation on a whiteboard with a student',\n",
    "                'roasting marshmallows',\n",
    "                'getting too much junk mail',\n",
    "                'shopping for blue cups',\n",
    "                'lost and looking for directions',\n",
    "                'drinking coffee while waiting in a car repair / sales store',\n",
    "                'Telescope in the mirror',\n",
    "                'buy a blood pressure monitor',\n",
    "                'an orange suitcase',\n",
    "                'TagHeuer advertisement for a watch',\n",
    "                'Boarding pass for PVG',\n",
    "                'a colleague in my office carrying a large paper envelope full of documents',\n",
    "                'taking a photo of a phone screen',\n",
    "                'looking at small computer chips on rolls',\n",
    "                'buying fruit from a convenience store',\n",
    "                'buying glenisk yoghurt',\n",
    "                'Eating mandarins',\n",
    "                'learning to fix the broken key of macbook air',\n",
    "                'playing a retro car-racing game on a laptop in my office'\n",
    "]\n",
    "\n",
    "lsc21_query_30 = ['building a computer at desk',\n",
    "                'going into NorthSide Shopping Centre to get new keys',\n",
    "                'birds in a cage with a yellow bird at the lower left',\n",
    "                'a white t-shirt for sale saying I love bicycle',\n",
    "                'Planning a thesis/dissertation on a whiteboard with a student wearing a blue and black stripey top',\n",
    "                'roasting marshmallows on a BBQ',\n",
    "                'put a sign on my door as i was getting too much junk mail',\n",
    "                'shopping for blue cups with someone wearing a blue jacket',\n",
    "                'lost and looking for directions on a street',\n",
    "                'drinking coffee while waiting in a car repair / sales store called Joe Duffy',\n",
    "                'seeing a telescope and a red flower vase in the mirror in the bedroom',\n",
    "                'looking to buy a blood pressure monitor in a pharmacy',\n",
    "                'an orange ride-on suitcase',\n",
    "                'TagHeuer advertisement for a watch showing a footballer and a watch',\n",
    "                'queuing at the airport gate with boarding pass for PVG',\n",
    "                'a colleague in my office carrying a large heavy looking paper envelope full of documents',\n",
    "                'taking a photo of a phone screen being held by a lady',\n",
    "                'looking at small computer chips on rolls in a small university electronics laboratory',\n",
    "                'buying fruit in a convenience store for €2.99',\n",
    "                'buying glenisk yoghurt in a supermarket',\n",
    "                'Eating mandarins and an apple',\n",
    "                'learning to fix the broken key of macbook air by watching a video about it on a monitor',\n",
    "                'playing a retro single car-racing game at beginner level on a laptop in my office'\n",
    "]\n",
    "\n",
    "lsc21_query_60 = ['building a computer at desk with a blue background',\n",
    "                'going into NorthSide Shopping Centre to get new keys',\n",
    "                'birds in a cage with a yellow bird on the lower left and a box with a small green beetle-like car',\n",
    "                'a white t-shirt for sale saying I love bicycle in a bicycle and parts store',\n",
    "                'Planning a thesis/dissertation on a whiteboard with a student wearing a blue and black stripey top in my office',\n",
    "                'roasting marshmallows on a BBQ at home',\n",
    "                'put a sign on my door asking for no more junk mail',\n",
    "                'shopping for blue cups with someone wearing a blue jacket and bought two bags full of stuff',\n",
    "                'lost and looking for directions on a street close to an asian restaurant called Maple Leaf',\n",
    "                'drinking coffee while waiting in a car repair / sales store called Joe Duffy which sold both Volvo and Mazda cars',\n",
    "                'seeing a telescope and a red flower vase in the mirror in the bedroom. There is a white violin too',\n",
    "                'looking to buy a blood pressure monitor in a pharmacy that sold Omron and Braun devices',\n",
    "                'an orange ride-on suitcase with a face',\n",
    "                'TagHeuer advertisement for a watch showing a footballer sideways kicking the ball and a watch',\n",
    "                'queuing at the airport gate with boarding pass for PVG on a day with nice blue sky',\n",
    "                'a colleague wearing red trousers in my office carrying a large heavy looking paper envelope full of documents',\n",
    "                'taking a photo of a phone screen being held by a lady carrying a suitcase',\n",
    "                'looking at small computer chips on rolls in a small university electronics laboratory which had at least 100 rolls',\n",
    "                'buying fruit in a convenience store for €2.99 after a work break from office',\n",
    "                'buying glenisk yoghurt in a SPAR supermarket',\n",
    "                'Eating mandarins and an apple while working on a paper',\n",
    "                'learning to fix the broken key of macbook air by watching a video about it on a monitor. The macbook air was beside the monitor',\n",
    "                'playing a retro single car-racing game at beginner level on a laptop in my office for a few minutes'\n",
    "]\n",
    "LIST_TEXTS = lsc21_query_0 + lsc21_query_30 + lsc21_query_60"
   ]
  },
  {
   "cell_type": "code",
   "execution_count": 4,
   "id": "d3361ab5-302f-47f3-8b66-6a9444a09b45",
   "metadata": {},
   "outputs": [],
   "source": [
    "lsc21_query_0 = ['building computer',\n",
    "                'NorthSide Shopping Centre',\n",
    "                'birds cage',\n",
    "                'white t-shirt',\n",
    "                'thesis dissertation whiteboard student',\n",
    "                'roasting marshmallows',\n",
    "                'junk mail',\n",
    "                'shopping blue cups',\n",
    "                'lost looking directions',\n",
    "                'drinking coffee car repair sales store',\n",
    "                'Telescope mirror',\n",
    "                'blood pressure monitor',\n",
    "                'orange suitcase',\n",
    "                'TagHeuer advertisement watch',\n",
    "                'Boarding pass',\n",
    "                'colleague office paper envelope documents',\n",
    "                'phone screen',\n",
    "                'small computer chips rolls',\n",
    "                'fruit convenience store',\n",
    "                'glenisk yoghurt',\n",
    "                'mandarins',\n",
    "                'broken key macbook air',\n",
    "                'car-racing game laptop office'\n",
    "]\n",
    "\n",
    "lsc21_query_30 = ['computer desk',\n",
    "                'NorthSide Shopping Centre keys',\n",
    "                'birds cage yellow bird',\n",
    "                'white t-shirt',\n",
    "                'thesis dissertation whiteboard student blue and black stripey top',\n",
    "                'roasting marshmallows BBQ',\n",
    "                'sign door junk mail',\n",
    "                'shopping blue cups blue jacket',\n",
    "                'lost looking directions street',\n",
    "                'drinking coffee car repair sales store Joe Duffy',\n",
    "                'telescope red flower vase mirror bedroom',\n",
    "                'blood pressure monitor pharmacy',\n",
    "                'orange ride-on suitcase',\n",
    "                'TagHeuer advertisement watch footballer',\n",
    "                'queuing airport gate boarding pass',\n",
    "                'colleague office paper envelope documents',\n",
    "                'phone screen lady',\n",
    "                'small computer chips rolls university electronics laboratory',\n",
    "                'fruit convenience store 2.99',\n",
    "                'glenisk yoghurt supermarket',\n",
    "                'mandarins apple',\n",
    "                'broken key macbook air video monitor',\n",
    "                'car-racing game laptop office'\n",
    "]\n",
    "\n",
    "lsc21_query_60 = ['computer desk blue background',\n",
    "                'NorthSide Shopping Centre keys',\n",
    "                'birds cage yellow bird box green toy',\n",
    "                'white t-shirt bicycle store',\n",
    "                'thesis dissertation whiteboard student blue and black stripey top office',\n",
    "                'roasting marshmallows BBQ home',\n",
    "                'sign door junk mail',\n",
    "                'shopping blue cups blue jacket bags stuff',\n",
    "                'lost looking directions street asian restaurant Maple Leaf',\n",
    "                'drinking coffee car repair sales store Joe Duffy Volvo Mazda',\n",
    "                'telescope red flower vase mirror bedroom white violin',\n",
    "                'blood pressure monitor pharmacy Omron Braun devices',\n",
    "                'orange ride-on suitcase face',\n",
    "                'TagHeuer advertisement watch footballer ball',\n",
    "                'queuing airport gate boarding pass blue sky',\n",
    "                'red trousers colleague office paper envelope documents',\n",
    "                'phone screen lady suitcase',\n",
    "                'small computer chips rolls university electronics laboratory',\n",
    "                'fruit convenience store 2.99 work break office',\n",
    "                'glenisk yoghurt SPAR supermarket',\n",
    "                'mandarins apple working paper',\n",
    "                'broken key macbook air video monitor',\n",
    "                'car-racing game laptop office beginner level'\n",
    "]\n",
    "LIST_TEXTS = lsc21_query_0 + lsc21_query_30 + lsc21_query_60"
   ]
  },
  {
   "cell_type": "code",
   "execution_count": 12,
   "id": "e412a3d0-14cb-4b4a-8808-17d9d484dfc6",
   "metadata": {},
   "outputs": [],
   "source": [
    "start_index = 2 * num_queries\n",
    "end_index = 3 * num_queries\n",
    "size = 100\n",
    "res = []\n",
    "hit_k = [1, 3, 5, 10, 20, 50, 100]"
   ]
  },
  {
   "cell_type": "code",
   "execution_count": 13,
   "id": "baf97fe4-b700-4118-954b-ffe5ca28a1d8",
   "metadata": {},
   "outputs": [
    {
     "name": "stderr",
     "output_type": "stream",
     "text": [
      "100%|███████████████████████████████████████████| 23/23 [00:20<00:00,  1.13it/s]\n"
     ]
    }
   ],
   "source": [
    "for idx in tqdm(range(start_index, end_index)):\n",
    "    query = LIST_TEXTS[idx]\n",
    "    query = query.replace(\" \", \"%20\")\n",
    "    url_link = f\"{URL}/?query={query}&size={size}\"\n",
    "    r = requests.get(url_link)\n",
    "    result = json.loads(r.text)\n",
    "    pred_relevant_jpg = result['results']\n",
    "    pred_relevant = [f\"{t.split('.')[0].split('/')[-1]}\" for t in pred_relevant_jpg]\n",
    "    idx_qr = idx % 23\n",
    "    gt_relevant = relevant_dict[idx_qr]\n",
    "    row = get_hit_rate(pred_relevant, gt_relevant, hit=hit_k)\n",
    "    res.append(row)\n",
    "hit = pd.DataFrame(res, columns = ['H@1','H@3','H@5','H@10','H@20','H@50', 'H@100'])"
   ]
  },
  {
   "cell_type": "markdown",
   "id": "adc22e44-40ce-497b-9cb2-49d83723612c",
   "metadata": {},
   "source": []
  },
  {
   "cell_type": "markdown",
   "id": "3f18a02e-af40-438a-bc75-cce958daee4e",
   "metadata": {
    "tags": []
   },
   "source": [
    "## Exp 1: Using entire text in a query"
   ]
  },
  {
   "cell_type": "code",
   "execution_count": 8,
   "id": "e267c37b-f04c-4dd4-bc7b-104fb7706005",
   "metadata": {},
   "outputs": [
    {
     "name": "stdout",
     "output_type": "stream",
     "text": [
      "1       |3       |5       |10      |20      |50      |100     |\n",
      "--------|--------|--------|--------|--------|--------|--------|\n",
      "0.0000  |0.0000  |0.0000  |0.0000  |0.0870  |0.0870  |0.0870  |\n"
     ]
    }
   ],
   "source": [
    "print(\"1       |3       |5       |10      |20      |50      |100     |\")\n",
    "print(\"--------|--------|--------|--------|--------|--------|--------|\")\n",
    "for value in hit.mean(axis=0).values:\n",
    "    print(f\"{value:0.4f}  |\", end='')\n",
    "print(\"\")"
   ]
  },
  {
   "cell_type": "code",
   "execution_count": 13,
   "id": "cfa86dd6-bfd4-4985-91c4-0a188c0af486",
   "metadata": {},
   "outputs": [
    {
     "name": "stdout",
     "output_type": "stream",
     "text": [
      "1       |3       |5       |10      |20      |50      |100     |\n",
      "--------|--------|--------|--------|--------|--------|--------|\n",
      "0.0435  |0.0435  |0.0435  |0.0870  |0.0870  |0.0870  |0.1304  |\n"
     ]
    }
   ],
   "source": [
    "print(\"1       |3       |5       |10      |20      |50      |100     |\")\n",
    "print(\"--------|--------|--------|--------|--------|--------|--------|\")\n",
    "for value in hit.mean(axis=0).values:\n",
    "    print(f\"{value:0.4f}  |\", end='')\n",
    "print(\"\")"
   ]
  },
  {
   "cell_type": "code",
   "execution_count": 16,
   "id": "d1b28801-79f8-42f5-bbb8-f1df71185ee2",
   "metadata": {},
   "outputs": [
    {
     "name": "stdout",
     "output_type": "stream",
     "text": [
      "1       |3       |5       |10      |20      |50      |100     |\n",
      "--------|--------|--------|--------|--------|--------|--------|\n",
      "0.0435  |0.0435  |0.0435  |0.0870  |0.0870  |0.1304  |0.1739  |\n"
     ]
    }
   ],
   "source": [
    "print(\"1       |3       |5       |10      |20      |50      |100     |\")\n",
    "print(\"--------|--------|--------|--------|--------|--------|--------|\")\n",
    "for value in hit.mean(axis=0).values:\n",
    "    print(f\"{value:0.4f}  |\", end='')\n",
    "print(\"\")"
   ]
  },
  {
   "cell_type": "markdown",
   "id": "cc7b191f-a2ae-4de1-ad3b-76fcf2a46db6",
   "metadata": {
    "tags": []
   },
   "source": [
    "## Exp 2: Using only concepts in a query"
   ]
  },
  {
   "cell_type": "code",
   "execution_count": 8,
   "id": "aaf0840e-9a35-45e5-a73b-e643a73340ef",
   "metadata": {},
   "outputs": [
    {
     "name": "stdout",
     "output_type": "stream",
     "text": [
      "1       |3       |5       |10      |20      |50      |100     |\n",
      "--------|--------|--------|--------|--------|--------|--------|\n",
      "0.0000  |0.0000  |0.0000  |0.0000  |0.0435  |0.0435  |0.0435  |\n"
     ]
    }
   ],
   "source": [
    "print(\"1       |3       |5       |10      |20      |50      |100     |\")\n",
    "print(\"--------|--------|--------|--------|--------|--------|--------|\")\n",
    "for value in hit.mean(axis=0).values:\n",
    "    print(f\"{value:0.4f}  |\", end='')\n",
    "print(\"\")"
   ]
  },
  {
   "cell_type": "code",
   "execution_count": 11,
   "id": "9af1d881-339d-4afd-9add-2f60d227fc2f",
   "metadata": {},
   "outputs": [
    {
     "name": "stdout",
     "output_type": "stream",
     "text": [
      "1       |3       |5       |10      |20      |50      |100     |\n",
      "--------|--------|--------|--------|--------|--------|--------|\n",
      "0.0435  |0.0435  |0.0435  |0.0870  |0.0870  |0.0870  |0.1304  |\n"
     ]
    }
   ],
   "source": [
    "print(\"1       |3       |5       |10      |20      |50      |100     |\")\n",
    "print(\"--------|--------|--------|--------|--------|--------|--------|\")\n",
    "for value in hit.mean(axis=0).values:\n",
    "    print(f\"{value:0.4f}  |\", end='')\n",
    "print(\"\")"
   ]
  },
  {
   "cell_type": "code",
   "execution_count": 14,
   "id": "685de9d0-46dd-46bd-9721-f4ac6fa738e9",
   "metadata": {},
   "outputs": [
    {
     "name": "stdout",
     "output_type": "stream",
     "text": [
      "1       |3       |5       |10      |20      |50      |100     |\n",
      "--------|--------|--------|--------|--------|--------|--------|\n",
      "0.0435  |0.0435  |0.0435  |0.0435  |0.1304  |0.1739  |0.2174  |\n"
     ]
    }
   ],
   "source": [
    "print(\"1       |3       |5       |10      |20      |50      |100     |\")\n",
    "print(\"--------|--------|--------|--------|--------|--------|--------|\")\n",
    "for value in hit.mean(axis=0).values:\n",
    "    print(f\"{value:0.4f}  |\", end='')\n",
    "print(\"\")"
   ]
  },
  {
   "cell_type": "code",
   "execution_count": null,
   "id": "8b6dd7c3-bae5-423b-a04b-3d1ad7dbb964",
   "metadata": {},
   "outputs": [],
   "source": []
  }
 ],
 "metadata": {
  "kernelspec": {
   "display_name": "Python 3 (ipykernel)",
   "language": "python",
   "name": "python3"
  },
  "language_info": {
   "codemirror_mode": {
    "name": "ipython",
    "version": 3
   },
   "file_extension": ".py",
   "mimetype": "text/x-python",
   "name": "python",
   "nbconvert_exporter": "python",
   "pygments_lexer": "ipython3",
   "version": "3.8.13"
  }
 },
 "nbformat": 4,
 "nbformat_minor": 5
}
